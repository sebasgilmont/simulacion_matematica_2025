{
 "cells": [
  {
   "cell_type": "markdown",
   "metadata": {},
   "source": [
    "# hello word"
   ]
  },
  {
   "cell_type": "code",
   "execution_count": 2,
   "metadata": {},
   "outputs": [
    {
     "name": "stdout",
     "output_type": "stream",
     "text": [
      "Requirement already satisfied: pulp in c:\\simulacion matematica\\trabajos simulacion\\simulacion_matematica_2025\\.venv\\lib\\site-packages (3.0.2)Note: you may need to restart the kernel to use updated packages.\n"
     ]
    },
    {
     "name": "stderr",
     "output_type": "stream",
     "text": [
      "\n",
      "[notice] A new release of pip is available: 25.0 -> 25.0.1\n",
      "[notice] To update, run: python.exe -m pip install --upgrade pip\n"
     ]
    },
    {
     "name": "stdout",
     "output_type": "stream",
     "text": [
      "\n",
      "Collecting o\n",
      "  Downloading o-0.0.2b2-py3-none-any.whl.metadata (1.5 kB)\n",
      "Downloading o-0.0.2b2-py3-none-any.whl (4.9 kB)\n",
      "Installing collected packages: o\n",
      "Successfully installed o-0.0.2b2\n"
     ]
    }
   ],
   "source": [
    "pip install pulp o"
   ]
  },
  {
   "cell_type": "code",
   "execution_count": 25,
   "metadata": {},
   "outputs": [
    {
     "name": "stdout",
     "output_type": "stream",
     "text": [
      "hello world!\n"
     ]
    }
   ],
   "source": [
    "print(\"hello world!\")"
   ]
  },
  {
   "cell_type": "code",
   "execution_count": 26,
   "metadata": {},
   "outputs": [
    {
     "name": "stdout",
     "output_type": "stream",
     "text": [
      "Requirement already satisfied: numpy in c:\\simulacion matematica\\trabajos simulacion\\simulacion_matematica_2025\\.venv\\lib\\site-packages (2.2.2)\n",
      "Note: you may need to restart the kernel to use updated packages.\n"
     ]
    }
   ],
   "source": [
    "pip install numpy"
   ]
  },
  {
   "cell_type": "code",
   "execution_count": 27,
   "metadata": {},
   "outputs": [
    {
     "name": "stdout",
     "output_type": "stream",
     "text": [
      "Requirement already satisfied: sympy in c:\\simulacion matematica\\trabajos simulacion\\simulacion_matematica_2025\\.venv\\lib\\site-packages (1.13.3)\n",
      "Requirement already satisfied: mpmath<1.4,>=1.1.0 in c:\\simulacion matematica\\trabajos simulacion\\simulacion_matematica_2025\\.venv\\lib\\site-packages (from sympy) (1.3.0)\n",
      "Note: you may need to restart the kernel to use updated packages.\n"
     ]
    }
   ],
   "source": [
    "pip install sympy"
   ]
  },
  {
   "cell_type": "code",
   "execution_count": 28,
   "metadata": {},
   "outputs": [
    {
     "name": "stdout",
     "output_type": "stream",
     "text": [
      "Requirement already satisfied: matplotlib in c:\\simulacion matematica\\trabajos simulacion\\simulacion_matematica_2025\\.venv\\lib\\site-packages (3.10.0)\n",
      "Requirement already satisfied: contourpy>=1.0.1 in c:\\simulacion matematica\\trabajos simulacion\\simulacion_matematica_2025\\.venv\\lib\\site-packages (from matplotlib) (1.3.1)\n",
      "Requirement already satisfied: cycler>=0.10 in c:\\simulacion matematica\\trabajos simulacion\\simulacion_matematica_2025\\.venv\\lib\\site-packages (from matplotlib) (0.12.1)\n",
      "Requirement already satisfied: fonttools>=4.22.0 in c:\\simulacion matematica\\trabajos simulacion\\simulacion_matematica_2025\\.venv\\lib\\site-packages (from matplotlib) (4.56.0)\n",
      "Requirement already satisfied: kiwisolver>=1.3.1 in c:\\simulacion matematica\\trabajos simulacion\\simulacion_matematica_2025\\.venv\\lib\\site-packages (from matplotlib) (1.4.8)\n",
      "Requirement already satisfied: numpy>=1.23 in c:\\simulacion matematica\\trabajos simulacion\\simulacion_matematica_2025\\.venv\\lib\\site-packages (from matplotlib) (2.2.2)\n",
      "Requirement already satisfied: packaging>=20.0 in c:\\simulacion matematica\\trabajos simulacion\\simulacion_matematica_2025\\.venv\\lib\\site-packages (from matplotlib) (24.2)\n",
      "Requirement already satisfied: pillow>=8 in c:\\simulacion matematica\\trabajos simulacion\\simulacion_matematica_2025\\.venv\\lib\\site-packages (from matplotlib) (11.1.0)\n",
      "Requirement already satisfied: pyparsing>=2.3.1 in c:\\simulacion matematica\\trabajos simulacion\\simulacion_matematica_2025\\.venv\\lib\\site-packages (from matplotlib) (3.2.1)\n",
      "Requirement already satisfied: python-dateutil>=2.7 in c:\\simulacion matematica\\trabajos simulacion\\simulacion_matematica_2025\\.venv\\lib\\site-packages (from matplotlib) (2.9.0.post0)\n",
      "Requirement already satisfied: six>=1.5 in c:\\simulacion matematica\\trabajos simulacion\\simulacion_matematica_2025\\.venv\\lib\\site-packages (from python-dateutil>=2.7->matplotlib) (1.17.0)\n",
      "Note: you may need to restart the kernel to use updated packages.\n"
     ]
    }
   ],
   "source": [
    "pip install matplotlib"
   ]
  },
  {
   "cell_type": "code",
   "execution_count": 29,
   "metadata": {},
   "outputs": [
    {
     "name": "stdout",
     "output_type": "stream",
     "text": [
      "Requirement already satisfied: pandas in c:\\simulacion matematica\\trabajos simulacion\\simulacion_matematica_2025\\.venv\\lib\\site-packages (2.2.3)Note: you may need to restart the kernel to use updated packages.\n",
      "\n",
      "Requirement already satisfied: numpy>=1.26.0 in c:\\simulacion matematica\\trabajos simulacion\\simulacion_matematica_2025\\.venv\\lib\\site-packages (from pandas) (2.2.2)\n",
      "Requirement already satisfied: python-dateutil>=2.8.2 in c:\\simulacion matematica\\trabajos simulacion\\simulacion_matematica_2025\\.venv\\lib\\site-packages (from pandas) (2.9.0.post0)\n",
      "Requirement already satisfied: pytz>=2020.1 in c:\\simulacion matematica\\trabajos simulacion\\simulacion_matematica_2025\\.venv\\lib\\site-packages (from pandas) (2025.1)\n",
      "Requirement already satisfied: tzdata>=2022.7 in c:\\simulacion matematica\\trabajos simulacion\\simulacion_matematica_2025\\.venv\\lib\\site-packages (from pandas) (2025.1)\n",
      "Requirement already satisfied: six>=1.5 in c:\\simulacion matematica\\trabajos simulacion\\simulacion_matematica_2025\\.venv\\lib\\site-packages (from python-dateutil>=2.8.2->pandas) (1.17.0)\n"
     ]
    }
   ],
   "source": [
    "pip install pandas"
   ]
  },
  {
   "cell_type": "code",
   "execution_count": 30,
   "metadata": {},
   "outputs": [
    {
     "name": "stdout",
     "output_type": "stream",
     "text": [
      "Requirement already satisfied: scipy in c:\\simulacion matematica\\trabajos simulacion\\simulacion_matematica_2025\\.venv\\lib\\site-packages (1.15.1)\n",
      "Requirement already satisfied: numpy<2.5,>=1.23.5 in c:\\simulacion matematica\\trabajos simulacion\\simulacion_matematica_2025\\.venv\\lib\\site-packages (from scipy) (2.2.2)\n",
      "Note: you may need to restart the kernel to use updated packages.\n"
     ]
    }
   ],
   "source": [
    "pip install scipy"
   ]
  },
  {
   "cell_type": "code",
   "execution_count": 31,
   "metadata": {},
   "outputs": [
    {
     "name": "stdout",
     "output_type": "stream",
     "text": [
      "Requirement already satisfied: yfinance in c:\\simulacion matematica\\trabajos simulacion\\simulacion_matematica_2025\\.venv\\lib\\site-packages (0.2.52)\n",
      "Requirement already satisfied: pandas>=1.3.0 in c:\\simulacion matematica\\trabajos simulacion\\simulacion_matematica_2025\\.venv\\lib\\site-packages (from yfinance) (2.2.3)\n",
      "Requirement already satisfied: numpy>=1.16.5 in c:\\simulacion matematica\\trabajos simulacion\\simulacion_matematica_2025\\.venv\\lib\\site-packages (from yfinance) (2.2.2)\n",
      "Requirement already satisfied: requests>=2.31 in c:\\simulacion matematica\\trabajos simulacion\\simulacion_matematica_2025\\.venv\\lib\\site-packages (from yfinance) (2.32.3)\n",
      "Requirement already satisfied: multitasking>=0.0.7 in c:\\simulacion matematica\\trabajos simulacion\\simulacion_matematica_2025\\.venv\\lib\\site-packages (from yfinance) (0.0.11)\n",
      "Requirement already satisfied: lxml>=4.9.1 in c:\\simulacion matematica\\trabajos simulacion\\simulacion_matematica_2025\\.venv\\lib\\site-packages (from yfinance) (5.3.0)\n",
      "Requirement already satisfied: platformdirs>=2.0.0 in c:\\simulacion matematica\\trabajos simulacion\\simulacion_matematica_2025\\.venv\\lib\\site-packages (from yfinance) (4.3.6)\n",
      "Requirement already satisfied: pytz>=2022.5 in c:\\simulacion matematica\\trabajos simulacion\\simulacion_matematica_2025\\.venv\\lib\\site-packages (from yfinance) (2025.1)\n",
      "Requirement already satisfied: frozendict>=2.3.4 in c:\\simulacion matematica\\trabajos simulacion\\simulacion_matematica_2025\\.venv\\lib\\site-packages (from yfinance) (2.4.6)\n",
      "Requirement already satisfied: peewee>=3.16.2 in c:\\simulacion matematica\\trabajos simulacion\\simulacion_matematica_2025\\.venv\\lib\\site-packages (from yfinance) (3.17.9)\n",
      "Requirement already satisfied: beautifulsoup4>=4.11.1 in c:\\simulacion matematica\\trabajos simulacion\\simulacion_matematica_2025\\.venv\\lib\\site-packages (from yfinance) (4.13.3)\n",
      "Requirement already satisfied: html5lib>=1.1 in c:\\simulacion matematica\\trabajos simulacion\\simulacion_matematica_2025\\.venv\\lib\\site-packages (from yfinance) (1.1)\n",
      "Requirement already satisfied: soupsieve>1.2 in c:\\simulacion matematica\\trabajos simulacion\\simulacion_matematica_2025\\.venv\\lib\\site-packages (from beautifulsoup4>=4.11.1->yfinance) (2.6)\n",
      "Requirement already satisfied: typing-extensions>=4.0.0 in c:\\simulacion matematica\\trabajos simulacion\\simulacion_matematica_2025\\.venv\\lib\\site-packages (from beautifulsoup4>=4.11.1->yfinance) (4.12.2)\n",
      "Requirement already satisfied: six>=1.9 in c:\\simulacion matematica\\trabajos simulacion\\simulacion_matematica_2025\\.venv\\lib\\site-packages (from html5lib>=1.1->yfinance) (1.17.0)\n",
      "Requirement already satisfied: webencodings in c:\\simulacion matematica\\trabajos simulacion\\simulacion_matematica_2025\\.venv\\lib\\site-packages (from html5lib>=1.1->yfinance) (0.5.1)\n",
      "Requirement already satisfied: python-dateutil>=2.8.2 in c:\\simulacion matematica\\trabajos simulacion\\simulacion_matematica_2025\\.venv\\lib\\site-packages (from pandas>=1.3.0->yfinance) (2.9.0.post0)\n",
      "Requirement already satisfied: tzdata>=2022.7 in c:\\simulacion matematica\\trabajos simulacion\\simulacion_matematica_2025\\.venv\\lib\\site-packages (from pandas>=1.3.0->yfinance) (2025.1)\n",
      "Requirement already satisfied: charset-normalizer<4,>=2 in c:\\simulacion matematica\\trabajos simulacion\\simulacion_matematica_2025\\.venv\\lib\\site-packages (from requests>=2.31->yfinance) (3.4.1)\n",
      "Requirement already satisfied: idna<4,>=2.5 in c:\\simulacion matematica\\trabajos simulacion\\simulacion_matematica_2025\\.venv\\lib\\site-packages (from requests>=2.31->yfinance) (3.10)\n",
      "Requirement already satisfied: urllib3<3,>=1.21.1 in c:\\simulacion matematica\\trabajos simulacion\\simulacion_matematica_2025\\.venv\\lib\\site-packages (from requests>=2.31->yfinance) (2.3.0)\n",
      "Requirement already satisfied: certifi>=2017.4.17 in c:\\simulacion matematica\\trabajos simulacion\\simulacion_matematica_2025\\.venv\\lib\\site-packages (from requests>=2.31->yfinance) (2025.1.31)\n",
      "Note: you may need to restart the kernel to use updated packages.\n"
     ]
    }
   ],
   "source": [
    "pip install yfinance"
   ]
  },
  {
   "cell_type": "code",
   "execution_count": 32,
   "metadata": {},
   "outputs": [
    {
     "name": "stdout",
     "output_type": "stream",
     "text": [
      "Requirement already satisfied: geopandas in c:\\simulacion matematica\\trabajos simulacion\\simulacion_matematica_2025\\.venv\\lib\\site-packages (1.0.1)\n",
      "Requirement already satisfied: numpy>=1.22 in c:\\simulacion matematica\\trabajos simulacion\\simulacion_matematica_2025\\.venv\\lib\\site-packages (from geopandas) (2.2.2)\n",
      "Requirement already satisfied: pyogrio>=0.7.2 in c:\\simulacion matematica\\trabajos simulacion\\simulacion_matematica_2025\\.venv\\lib\\site-packages (from geopandas) (0.10.0)\n",
      "Requirement already satisfied: packaging in c:\\simulacion matematica\\trabajos simulacion\\simulacion_matematica_2025\\.venv\\lib\\site-packages (from geopandas) (24.2)\n",
      "Requirement already satisfied: pandas>=1.4.0 in c:\\simulacion matematica\\trabajos simulacion\\simulacion_matematica_2025\\.venv\\lib\\site-packages (from geopandas) (2.2.3)\n",
      "Requirement already satisfied: pyproj>=3.3.0 in c:\\simulacion matematica\\trabajos simulacion\\simulacion_matematica_2025\\.venv\\lib\\site-packages (from geopandas) (3.7.0)\n",
      "Requirement already satisfied: shapely>=2.0.0 in c:\\simulacion matematica\\trabajos simulacion\\simulacion_matematica_2025\\.venv\\lib\\site-packages (from geopandas) (2.0.7)\n",
      "Requirement already satisfied: python-dateutil>=2.8.2 in c:\\simulacion matematica\\trabajos simulacion\\simulacion_matematica_2025\\.venv\\lib\\site-packages (from pandas>=1.4.0->geopandas) (2.9.0.post0)\n",
      "Requirement already satisfied: pytz>=2020.1 in c:\\simulacion matematica\\trabajos simulacion\\simulacion_matematica_2025\\.venv\\lib\\site-packages (from pandas>=1.4.0->geopandas) (2025.1)\n",
      "Requirement already satisfied: tzdata>=2022.7 in c:\\simulacion matematica\\trabajos simulacion\\simulacion_matematica_2025\\.venv\\lib\\site-packages (from pandas>=1.4.0->geopandas) (2025.1)\n",
      "Requirement already satisfied: certifi in c:\\simulacion matematica\\trabajos simulacion\\simulacion_matematica_2025\\.venv\\lib\\site-packages (from pyogrio>=0.7.2->geopandas) (2025.1.31)\n",
      "Requirement already satisfied: six>=1.5 in c:\\simulacion matematica\\trabajos simulacion\\simulacion_matematica_2025\\.venv\\lib\\site-packages (from python-dateutil>=2.8.2->pandas>=1.4.0->geopandas) (1.17.0)\n",
      "Note: you may need to restart the kernel to use updated packages.\n"
     ]
    }
   ],
   "source": [
    "pip install geopandas"
   ]
  },
  {
   "cell_type": "code",
   "execution_count": 34,
   "metadata": {},
   "outputs": [
    {
     "name": "stdout",
     "output_type": "stream",
     "text": [
      "Todas las librerías están instaladas correctamente.\n"
     ]
    }
   ],
   "source": [
    "import numpy as np\n",
    "import sympy as sym\n",
    "import matplotlib.pyplot as plt\n",
    "import pandas as pd\n",
    "import scipy.optimize as opt\n",
    "import yfinance as yf\n",
    "import geopandas as gpd\n",
    "\n",
    "print(\"Todas las librerías están instaladas correctamente.\")"
   ]
  },
  {
   "cell_type": "code",
   "execution_count": 35,
   "metadata": {},
   "outputs": [
    {
     "name": "stdout",
     "output_type": "stream",
     "text": [
      "Collecting scikit-learn\n",
      "  Downloading scikit_learn-1.6.1-cp312-cp312-win_amd64.whl.metadata (15 kB)\n",
      "Requirement already satisfied: numpy>=1.19.5 in c:\\simulacion matematica\\trabajos simulacion\\simulacion_matematica_2025\\.venv\\lib\\site-packages (from scikit-learn) (2.2.2)\n",
      "Requirement already satisfied: scipy>=1.6.0 in c:\\simulacion matematica\\trabajos simulacion\\simulacion_matematica_2025\\.venv\\lib\\site-packages (from scikit-learn) (1.15.1)\n",
      "Collecting joblib>=1.2.0 (from scikit-learn)\n",
      "  Downloading joblib-1.4.2-py3-none-any.whl.metadata (5.4 kB)\n",
      "Collecting threadpoolctl>=3.1.0 (from scikit-learn)\n",
      "  Downloading threadpoolctl-3.5.0-py3-none-any.whl.metadata (13 kB)\n",
      "Downloading scikit_learn-1.6.1-cp312-cp312-win_amd64.whl (11.1 MB)\n",
      "   ---------------------------------------- 0.0/11.1 MB ? eta -:--:--\n",
      "   ---------------------------------------- 0.0/11.1 MB ? eta -:--:--\n",
      "   - -------------------------------------- 0.5/11.1 MB 2.8 MB/s eta 0:00:04\n",
      "   --- ------------------------------------ 1.0/11.1 MB 2.6 MB/s eta 0:00:04\n",
      "   ------- -------------------------------- 2.1/11.1 MB 3.4 MB/s eta 0:00:03\n",
      "   ----------- ---------------------------- 3.1/11.1 MB 4.0 MB/s eta 0:00:02\n",
      "   -------------- ------------------------- 3.9/11.1 MB 3.8 MB/s eta 0:00:02\n",
      "   ------------------ --------------------- 5.2/11.1 MB 4.1 MB/s eta 0:00:02\n",
      "   ----------------------- ---------------- 6.6/11.1 MB 4.4 MB/s eta 0:00:02\n",
      "   ------------------------------ --------- 8.4/11.1 MB 5.0 MB/s eta 0:00:01\n",
      "   ----------------------------------- ---- 10.0/11.1 MB 5.2 MB/s eta 0:00:01\n",
      "   ---------------------------------------  11.0/11.1 MB 5.3 MB/s eta 0:00:01\n",
      "   ---------------------------------------- 11.1/11.1 MB 5.2 MB/s eta 0:00:00\n",
      "Downloading joblib-1.4.2-py3-none-any.whl (301 kB)\n",
      "Downloading threadpoolctl-3.5.0-py3-none-any.whl (18 kB)\n",
      "Installing collected packages: threadpoolctl, joblib, scikit-learn\n",
      "Successfully installed joblib-1.4.2 scikit-learn-1.6.1 threadpoolctl-3.5.0\n",
      "Note: you may need to restart the kernel to use updated packages.\n"
     ]
    }
   ],
   "source": [
    "pip install scikit-learn"
   ]
  },
  {
   "cell_type": "code",
   "execution_count": 36,
   "metadata": {},
   "outputs": [
    {
     "name": "stdout",
     "output_type": "stream",
     "text": [
      "la liberia esta bien installada\n"
     ]
    }
   ],
   "source": [
    "from sklearn.preprocessing import StandardScaler\n",
    "print(\"la liberia esta bien installada\")"
   ]
  },
  {
   "cell_type": "code",
   "execution_count": 38,
   "metadata": {},
   "outputs": [
    {
     "name": "stdout",
     "output_type": "stream",
     "text": [
      "Array: [1 2 3 4 5]\n",
      "Suma del array: 15\n"
     ]
    }
   ],
   "source": [
    "\n",
    "import numpy as np\n",
    "import numpy as np\n",
    "# Crear un array y calcular su suma\n",
    "array = np.array([1, 2, 3, 4, 5])\n",
    "print(\"Array:\", array)\n",
    "print(\"Suma del array:\", np.sum(array))"
   ]
  },
  {
   "cell_type": "code",
   "execution_count": 39,
   "metadata": {},
   "outputs": [
    {
     "name": "stdout",
     "output_type": "stream",
     "text": [
      "Función: x**2 + 3*x + 2\n",
      "Derivada: 2*x + 3\n"
     ]
    }
   ],
   "source": [
    "import sympy as sym\n",
    "# Definir una variable simbólica y calcular la derivada\n",
    "x = sym.Symbol('x')\n",
    "func = x**2 + 3*x + 2\n",
    "derivada = sym.diff(func, x)\n",
    "print(\"Función:\", func)\n",
    "print(\"Derivada:\", derivada)"
   ]
  },
  {
   "cell_type": "code",
   "execution_count": 40,
   "metadata": {},
   "outputs": [
    {
     "data": {
      "image/png": "[encoded data removed]",
      "text/plain": [
       "<Figure size 640x480 with 1 Axes>"
      ]
     },
     "metadata": {},
     "output_type": "display_data"
    }
   ],
   "source": [
    "import matplotlib.pyplot as plt\n",
    "# Crear un gráfico simple\n",
    "x = [1, 2, 3, 4, 5]\n",
    "y = [1, 4, 9, 16, 25]\n",
    "plt.plot(x, y, marker='o')\n",
    "plt.title(\"Gráfico de x vs y\")\n",
    "plt.xlabel(\"x\")\n",
    "plt.ylabel(\"y\")\n",
    "plt.grid(True)\n",
    "plt.show()"
   ]
  },
  {
   "cell_type": "code",
   "execution_count": 42,
   "metadata": {},
   "outputs": [
    {
     "name": "stdout",
     "output_type": "stream",
     "text": [
      "DataFrame:\n",
      "  Nombre  Edad\n",
      "0    Ana    25\n",
      "1   Luis    30\n",
      "2  María    22\n",
      "\n",
      "Edades promedio: 25.666666666666668\n"
     ]
    }
   ],
   "source": [
    "\n",
    "import pandas as pd\n",
    "# Crear un DataFrame y realizar operaciones básicas\n",
    "data = {'Nombre': ['Ana', 'Luis', 'María'], 'Edad': [25, 30, 22]}\n",
    "df = pd.DataFrame(data)\n",
    "print(\"DataFrame:\")\n",
    "print(df)\n",
    "print(\"\\nEdades promedio:\", df['Edad'].mean())"
   ]
  },
  {
   "cell_type": "code",
   "execution_count": 43,
   "metadata": {},
   "outputs": [
    {
     "name": "stdout",
     "output_type": "stream",
     "text": [
      "Punto mínimo: [-1.50000001]\n"
     ]
    }
   ],
   "source": [
    "import scipy.optimize as opt\n",
    "# Encontrar el mínimo de una función cuadrática\n",
    "def f(x):\n",
    " return x**2 + 3*x + 2\n",
    "resultado = opt.minimize(f, x0=0) # x0 es el punto inicial\n",
    "print(\"Punto mínimo:\", resultado.x)"
   ]
  },
  {
   "cell_type": "code",
   "execution_count": 44,
   "metadata": {},
   "outputs": [
    {
     "name": "stdout",
     "output_type": "stream",
     "text": [
      "Tiempo de ejecución: 0.040936946868896484 segundos\n"
     ]
    }
   ],
   "source": [
    "import time\n",
    "# Medir cuánto tiempo tarda un bucle\n",
    "start_time = time.time()\n",
    "for i in range(1000000):\n",
    " pass\n",
    "end_time = time.time()\n",
    "print(\"Tiempo de ejecución:\", end_time - start_time, \"segundos\")"
   ]
  },
  {
   "cell_type": "code",
   "execution_count": 45,
   "metadata": {},
   "outputs": [
    {
     "name": "stdout",
     "output_type": "stream",
     "text": [
      "Datos históricos de AAPL:\n",
      "                                 Open        High         Low       Close  \\\n",
      "Date                                                                        \n",
      "2025-02-03 00:00:00-05:00  229.990005  231.830002  225.699997  228.009995   \n",
      "2025-02-04 00:00:00-05:00  227.250000  233.130005  226.649994  232.800003   \n",
      "2025-02-05 00:00:00-05:00  228.529999  232.669998  228.270004  232.470001   \n",
      "2025-02-06 00:00:00-05:00  231.289993  233.800003  230.429993  233.220001   \n",
      "2025-02-07 00:00:00-05:00  232.514999  234.000000  232.089996  233.225098   \n",
      "\n",
      "                             Volume  Dividends  Stock Splits  \n",
      "Date                                                          \n",
      "2025-02-03 00:00:00-05:00  73063300        0.0           0.0  \n",
      "2025-02-04 00:00:00-05:00  45067300        0.0           0.0  \n",
      "2025-02-05 00:00:00-05:00  39620300        0.0           0.0  \n",
      "2025-02-06 00:00:00-05:00  29836900        0.0           0.0  \n",
      "2025-02-07 00:00:00-05:00   3134288        0.0           0.0  \n"
     ]
    }
   ],
   "source": [
    "import yfinance as yf\n",
    "# Descargar datos históricos de una acción\n",
    "apple = yf.Ticker(\"AAPL\")\n",
    "hist = apple.history(period=\"5d\") # Últimos 5 días\n",
    "print(\"Datos históricos de AAPL:\")\n",
    "print(hist)"
   ]
  },
  {
   "cell_type": "code",
   "execution_count": 47,
   "metadata": {},
   "outputs": [
    {
     "name": "stdout",
     "output_type": "stream",
     "text": [
      "Datos originales:\n",
      "[[1 2 3]\n",
      " [4 5 6]\n",
      " [7 8 9]]\n",
      "\n",
      "Datos escalados:\n",
      "[[-1.22474487 -1.22474487 -1.22474487]\n",
      " [ 0.          0.          0.        ]\n",
      " [ 1.22474487  1.22474487  1.22474487]]\n"
     ]
    }
   ],
   "source": [
    "from sklearn.preprocessing import StandardScaler\n",
    "import numpy as np\n",
    "# Escalar datos\n",
    "data = np.array([[1, 2, 3], [4, 5, 6], [7, 8, 9]])\n",
    "scaler = StandardScaler()\n",
    "scaled_data = scaler.fit_transform(data)\n",
    "print(\"Datos originales:\")\n",
    "print(data)\n",
    "print(\"\\nDatos escalados:\")\n",
    "print(scaled_data)\n",
    "\n"
   ]
  },
  {
   "cell_type": "code",
   "execution_count": null,
   "metadata": {},
   "outputs": [],
   "source": []
  },
  {
   "cell_type": "code",
   "execution_count": 2,
   "metadata": {},
   "outputs": [
    {
     "name": "stdout",
     "output_type": "stream",
     "text": [
      "Collecting nb\n",
      "  Downloading nb-0.1.2.tar.gz (4.7 kB)\n",
      "  Installing build dependencies: started\n",
      "  Installing build dependencies: finished with status 'done'\n",
      "  Getting requirements to build wheel: started\n",
      "  Getting requirements to build wheel: finished with status 'done'\n",
      "  Preparing metadata (pyproject.toml): started\n",
      "  Preparing metadata (pyproject.toml): finished with status 'done'\n",
      "Collecting convert\n",
      "  Downloading convert-0.1.2.tar.gz (561 bytes)\n",
      "  Installing build dependencies: started\n",
      "  Installing build dependencies: finished with status 'done'\n",
      "  Getting requirements to build wheel: started\n",
      "  Getting requirements to build wheel: finished with status 'done'\n",
      "  Preparing metadata (pyproject.toml): started\n",
      "  Preparing metadata (pyproject.toml): finished with status 'done'\n",
      "Collecting docopt>=0.6.2 (from nb)\n",
      "  Downloading docopt-0.6.2.tar.gz (25 kB)\n",
      "  Installing build dependencies: started\n",
      "  Installing build dependencies: finished with status 'done'\n",
      "  Getting requirements to build wheel: started\n",
      "  Getting requirements to build wheel: finished with status 'done'\n",
      "  Preparing metadata (pyproject.toml): started\n",
      "  Preparing metadata (pyproject.toml): finished with status 'done'\n",
      "Collecting PyYAML>=3.11 (from nb)\n",
      "  Downloading PyYAML-6.0.2-cp312-cp312-win_amd64.whl.metadata (2.1 kB)\n",
      "Downloading PyYAML-6.0.2-cp312-cp312-win_amd64.whl (156 kB)\n",
      "Building wheels for collected packages: nb, convert, docopt\n",
      "  Building wheel for nb (pyproject.toml): started\n",
      "  Building wheel for nb (pyproject.toml): finished with status 'done'\n",
      "  Created wheel for nb: filename=nb-0.1.2-py3-none-any.whl size=5398 sha256=69ab3de6df7a495a332805445d60a845f354a65478ce1dd846bc388b42eb648d\n",
      "  Stored in directory: c:\\users\\ivan2\\appdata\\local\\pip\\cache\\wheels\\de\\6d\\ae\\5e660017cbdd9c196995be3f2237238c81f75efcb3841107b6\n",
      "  Building wheel for convert (pyproject.toml): started\n",
      "  Building wheel for convert (pyproject.toml): finished with status 'done'\n",
      "  Created wheel for convert: filename=convert-0.1.2-py3-none-any.whl size=1253 sha256=198287b34c733cc333442caa89f6d7171ce77b38b0a78c2514b747168412e492\n",
      "  Stored in directory: c:\\users\\ivan2\\appdata\\local\\pip\\cache\\wheels\\2e\\98\\ec\\a617de9c1c0388d53f161060608d113d41885f64ac6c5060b3\n",
      "  Building wheel for docopt (pyproject.toml): started\n",
      "  Building wheel for docopt (pyproject.toml): finished with status 'done'\n",
      "  Created wheel for docopt: filename=docopt-0.6.2-py2.py3-none-any.whl size=13822 sha256=b03c08e2b07e4b810ce72008e499b2dd3834f10648ddefeba8f31d0d8845561e\n",
      "  Stored in directory: c:\\users\\ivan2\\appdata\\local\\pip\\cache\\wheels\\1a\\bf\\a1\\4cee4f7678c68c5875ca89eaccf460593539805c3906722228\n",
      "Successfully built nb convert docopt\n",
      "Installing collected packages: docopt, convert, PyYAML, nb\n",
      "Successfully installed PyYAML-6.0.2 convert-0.1.2 docopt-0.6.2 nb-0.1.2\n",
      "Note: you may need to restart the kernel to use updated packages.\n",
      "Collecting pandoc\n",
      "  Downloading pandoc-2.4.tar.gz (34 kB)\n",
      "  Installing build dependencies: started\n",
      "  Installing build dependencies: finished with status 'done'\n",
      "  Getting requirements to build wheel: started\n",
      "  Getting requirements to build wheel: finished with status 'done'\n",
      "  Preparing metadata (pyproject.toml): started\n",
      "  Preparing metadata (pyproject.toml): finished with status 'done'\n",
      "Collecting plumbum (from pandoc)\n",
      "  Downloading plumbum-1.9.0-py3-none-any.whl.metadata (10 kB)\n",
      "Collecting ply (from pandoc)\n",
      "  Downloading ply-3.11-py2.py3-none-any.whl.metadata (844 bytes)\n",
      "Requirement already satisfied: pywin32 in c:\\simulacion matematica\\trabajos simulacion\\simulacion_matematica_2025\\.venv\\lib\\site-packages (from plumbum->pandoc) (308)\n",
      "Downloading plumbum-1.9.0-py3-none-any.whl (127 kB)\n",
      "Downloading ply-3.11-py2.py3-none-any.whl (49 kB)\n",
      "Building wheels for collected packages: pandoc\n",
      "  Building wheel for pandoc (pyproject.toml): started\n",
      "  Building wheel for pandoc (pyproject.toml): finished with status 'done'\n",
      "  Created wheel for pandoc: filename=pandoc-2.4-py3-none-any.whl size=34869 sha256=c89716ea4655c14f2f86b6502256e23d4d8c718ed3a1f09238a94ac4f8493076\n",
      "  Stored in directory: c:\\users\\ivan2\\appdata\\local\\pip\\cache\\wheels\\9c\\2f\\9f\\b1aac8c3e74b4ee327dc8c6eac5128996f9eadf586e2c0ba67\n",
      "Successfully built pandoc\n",
      "Installing collected packages: ply, plumbum, pandoc\n",
      "Successfully installed pandoc-2.4 plumbum-1.9.0 ply-3.11\n",
      "Note: you may need to restart the kernel to use updated packages.\n"
     ]
    }
   ],
   "source": [
    "%pip install nb convert\n",
    "%pip install pandoc"
   ]
  }
 ],
 "metadata": {
  "kernelspec": {
   "display_name": ".venv",
   "language": "python",
   "name": "python3"
  },
  "language_info": {
   "codemirror_mode": {
    "name": "ipython",
    "version": 3
   },
   "file_extension": ".py",
   "mimetype": "text/x-python",
   "name": "python",
   "nbconvert_exporter": "python",
   "pygments_lexer": "ipython3",
   "version": "3.12.5"
  }
 },
 "nbformat": 4,
 "nbformat_minor": 2
}
